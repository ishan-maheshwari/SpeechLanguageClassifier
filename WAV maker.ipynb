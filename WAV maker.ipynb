{
 "cells": [
  {
   "cell_type": "code",
   "execution_count": 4,
   "metadata": {},
   "outputs": [
    {
     "ename": "SyntaxError",
     "evalue": "invalid syntax (<ipython-input-4-05223ae11aef>, line 1)",
     "output_type": "error",
     "traceback": [
      "\u001b[1;36m  File \u001b[1;32m\"<ipython-input-4-05223ae11aef>\"\u001b[1;36m, line \u001b[1;32m1\u001b[0m\n\u001b[1;33m    folder=c:\\\\Users\\\\Ishan\\\\Documents\\\\LibriSpeech\\\\train-clean-100\u001b[0m\n\u001b[1;37m            ^\u001b[0m\n\u001b[1;31mSyntaxError\u001b[0m\u001b[1;31m:\u001b[0m invalid syntax\n"
     ]
    }
   ],
   "source": [
    "folder=C:\\\\Users\\\\Ishan\\\\Documents\\\\LibriSpeech\\\\train-clean-100\n",
    "\n",
    "for file in $(find \"$folder\" -type f -iname \"*.flac\")\n",
    "do\n",
    "    name=$(basename \"$file\" .flac)\n",
    "    dir=$(dirname \"$file\")\n",
    "    echo ffmpeg -i \"$file\" \"$dir\"/\"$name\".wav\n",
    "    #ffmpeg -i $file $dir/$name.wav\n",
    "    #rm $file\n",
    "done"
   ]
  },
  {
   "cell_type": "code",
   "execution_count": null,
   "metadata": {
    "collapsed": true
   },
   "outputs": [],
   "source": []
  }
 ],
 "metadata": {
  "kernelspec": {
   "display_name": "Python 3",
   "language": "python",
   "name": "python3"
  }
 },
 "nbformat": 4,
 "nbformat_minor": 2
}
