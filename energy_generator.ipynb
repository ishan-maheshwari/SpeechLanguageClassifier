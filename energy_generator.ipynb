{
 "cells": [
  {
   "cell_type": "code",
   "execution_count": 2,
   "metadata": {},
   "outputs": [
    {
     "name": "stdout",
     "output_type": "stream",
     "text": [
      "clipped hindi audio\\audio3chunk0.wav\n",
      "clipped hindi audio\\audio3chunk1.wav\n",
      "clipped hindi audio\\audio3chunk10.wav\n",
      "clipped hindi audio\\audio3chunk11.wav\n",
      "clipped hindi audio\\audio3chunk12.wav\n",
      "clipped hindi audio\\audio3chunk13.wav\n",
      "clipped hindi audio\\audio3chunk14.wav\n",
      "clipped hindi audio\\audio3chunk15.wav\n",
      "clipped hindi audio\\audio3chunk16.wav\n",
      "clipped hindi audio\\audio3chunk17.wav\n",
      "clipped hindi audio\\audio3chunk18.wav\n",
      "clipped hindi audio\\audio3chunk2.wav\n",
      "clipped hindi audio\\audio3chunk3.wav\n",
      "clipped hindi audio\\audio3chunk4.wav\n",
      "clipped hindi audio\\audio3chunk5.wav\n",
      "clipped hindi audio\\audio3chunk6.wav\n",
      "clipped hindi audio\\audio3chunk7.wav\n",
      "clipped hindi audio\\audio3chunk8.wav\n",
      "clipped hindi audio\\audio3chunk9.wav\n",
      "done!\n"
     ]
    }
   ],
   "source": [
    "from python_speech_features import fbank\n",
    "from python_speech_features import logfbank\n",
    "import scipy.io.wavfile as wav\n",
    "import glob\n",
    "from scipy.io.wavfile import read\n",
    "import numpy as np\n",
    "\n",
    "wavs = []\n",
    "\n",
    "for filename in glob.glob('clipped hindi audio/audio3*.wav'):\n",
    "    print(filename)\n",
    "    \n",
    "    \n",
    "    (rate,sig) = wav.read(filename)\n",
    "    \n",
    "    \n",
    "    logfbank_feat = logfbank(sig,rate,nfft=2048)\n",
    "\n",
    "   \n",
    "    #print(logfbank_feat[1:3,:])\n",
    "    \n",
    "    np.save(filename.replace(\".wav\",\".npy\"), logfbank_feat) \n",
    "    \n",
    "\n",
    "'''\n",
    "(rate,sig) = wav.read('clipped english audio/audio1chunk1.wav')\n",
    "    \n",
    "    \n",
    "logfbank_feat = logfbank(sig,rate,nfft=2048)\n",
    "\n",
    "   \n",
    "print(logfbank_feat[1:3,:])\n",
    "#np.save(\"clipped english audio/audio1chunk1.wav\".replace(\".wav\",\".npy\"), logfbank_feat)\n",
    "\n",
    "#print(np.load('clipped english audio/dataset/audio1chunk1.npy'))\n",
    "(rate,sig) = wav.read('clipped english 16khz audio/audio1chunk1.wav')\n",
    "print(rate)\n",
    "'''\n",
    "print(\"done!\")\n",
    "\n"
   ]
  },
  {
   "cell_type": "code",
   "execution_count": null,
   "metadata": {
    "collapsed": true
   },
   "outputs": [],
   "source": []
  },
  {
   "cell_type": "code",
   "execution_count": null,
   "metadata": {
    "collapsed": true
   },
   "outputs": [],
   "source": []
  },
  {
   "cell_type": "code",
   "execution_count": null,
   "metadata": {
    "collapsed": true
   },
   "outputs": [],
   "source": [
    "\n"
   ]
  },
  {
   "cell_type": "code",
   "execution_count": null,
   "metadata": {
    "collapsed": true
   },
   "outputs": [],
   "source": []
  }
 ],
 "metadata": {
  "kernelspec": {
   "display_name": "Python 3",
   "language": "python",
   "name": "python3"
  },
  "language_info": {
   "codemirror_mode": {
    "name": "ipython",
    "version": 3
   },
   "file_extension": ".py",
   "mimetype": "text/x-python",
   "name": "python",
   "nbconvert_exporter": "python",
   "pygments_lexer": "ipython3",
   "version": "3.6.2"
  }
 },
 "nbformat": 4,
 "nbformat_minor": 2
}
